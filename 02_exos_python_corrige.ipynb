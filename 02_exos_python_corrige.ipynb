{
 "cells": [
  {
   "cell_type": "markdown",
   "metadata": {},
   "source": [
    "# Exercices de Python : Listes et Strings"
   ]
  },
  {
   "cell_type": "markdown",
   "metadata": {},
   "source": [
    "## letter_count\n",
    "\n",
    "❑ Écrivez une fonction `letter_count(ch:str) -> int:` qui retourne le **nombre de lettres** contenus dans le texte qu’elle prend\n",
    "en paramètre. 💡 isalpha()\n",
    "\n",
    "❑ Test de la fonction avec : \"\" \" \" \"1\" \"!\" \"1 mot de 3 lettres\""
   ]
  },
  {
   "cell_type": "code",
   "execution_count": 66,
   "metadata": {},
   "outputs": [
    {
     "name": "stdout",
     "output_type": "stream",
     "text": [
      "👏 BRAVO ! 👏\n"
     ]
    }
   ],
   "source": [
    "def letter_count(ch:str) -> int:\n",
    "    # écrivez le code la la fonction ici\n",
    "    nb_lettres = 0\n",
    "    for caractere in ch:\n",
    "        if caractere.isalpha():\n",
    "            nb_lettres += 1\n",
    "    return nb_lettres\n",
    "\n",
    "# zone de test : pas toucher !\n",
    "assert letter_count(\"\")==0, \"⛔️ Erreur test 1 ! Essaye encore ! ⛔️\"\n",
    "assert letter_count(\" \")==0, \"⛔️ Erreur test 2 ! Essaye encore ! ⛔️\"\n",
    "assert letter_count(\"1\")==0, \"⛔️ Erreur test 3 ! Essaye encore ! ⛔️\"\n",
    "assert letter_count(\"!\")==0, \"⛔️ Erreur test 4 ! Essaye encore ! ⛔️\"\n",
    "assert letter_count(\"1 mot de 3 lettres\")==12, \"⛔️ Erreur test 5 ! Essaye encore ! ⛔️\"\n",
    "print(\"👏 BRAVO ! 👏\")"
   ]
  },
  {
   "cell_type": "markdown",
   "metadata": {},
   "source": [
    "## reverse\n",
    "\n",
    "❑ Écrivez une fonction `reverse(ch:str) -> str` qui retourne un texte contenant les **caractères du texte** qu’elle prend en paramètre mais dans **l’ordre inverse**.\n",
    "\n",
    "❑ Test de la fonction avec \"\" \" \" \"!#\" \"mot\" \"plus de mots !\""
   ]
  },
  {
   "cell_type": "code",
   "execution_count": 67,
   "metadata": {},
   "outputs": [
    {
     "name": "stdout",
     "output_type": "stream",
     "text": [
      "👏 BRAVO ! 👏\n"
     ]
    }
   ],
   "source": [
    "def reverse(ch:str) -> str:\n",
    "    # écrivez le code la la fonction ici\n",
    "    result = \"\"\n",
    "    for caractere in ch:\n",
    "        result = caractere + result\n",
    "    return result\n",
    "\n",
    "# zone de test : pas toucher !\n",
    "assert reverse(\"\")==\"\", \"⛔️ Erreur test 1 ! Essaye encore ! ⛔️\"\n",
    "assert reverse(\" \")==\" \", \"⛔️ Erreur test 2 ! Essaye encore ! ⛔️\"\n",
    "assert reverse(\"!#\")==\"#!\", \"⛔️ Erreur test 3 ! Essaye encore ! ⛔️\"\n",
    "assert reverse(\"mot\")==\"tom\", \"⛔️ Erreur test 4 ! Essaye encore ! ⛔️\"\n",
    "assert reverse(\"plus de mots !\")==\"! stom ed sulp\", \"⛔️ Erreur test 5 ! Essaye encore ! ⛔️\"\n",
    "print(\"👏 BRAVO ! 👏\")"
   ]
  },
  {
   "cell_type": "markdown",
   "metadata": {},
   "source": [
    "## chars_split\n",
    "\n",
    "❑ Écrivez une fonction `chars_split(ch:str) -> list` qui retourne une **liste** contenant les **caractères** du texte qu’elle prend en paramètre.\n",
    "\n",
    "❑ Test de la fonction avec \"\" \" \" \"!#\" \"plein de mots !\""
   ]
  },
  {
   "cell_type": "code",
   "execution_count": 68,
   "metadata": {},
   "outputs": [
    {
     "name": "stdout",
     "output_type": "stream",
     "text": [
      "👏 BRAVO ! 👏\n"
     ]
    }
   ],
   "source": [
    "def chars_split(ch:str) -> list:\n",
    "    # écrivez le code la la fonction ici\n",
    "    result = []\n",
    "    for caractere in ch:\n",
    "        result += caractere\n",
    "    return result\n",
    "\n",
    "# zone de test : pas toucher !\n",
    "assert chars_split(\"\")==[], \"⛔️ Erreur test 1 ! Essaye encore ! ⛔️\"\n",
    "assert chars_split(\" \")==[\" \"], \"⛔️ Erreur test 2 ! Essaye encore ! ⛔️\"\n",
    "assert chars_split(\"!#\")==[\"!\",\"#\"], \"⛔️ Erreur test 3 ! Essaye encore ! ⛔️\"\n",
    "assert chars_split(\"plein de mots !\")==[\"p\",\"l\",\"e\",\"i\",\"n\",\" \",\"d\",\"e\",\" \",\"m\",\"o\",\"t\",\"s\",\" \",\"!\"], \"⛔️ Erreur test 4 ! Essaye encore ! ⛔️\"\n",
    "print(\"👏 BRAVO ! 👏\")"
   ]
  },
  {
   "cell_type": "raw",
   "metadata": {},
   "source": []
  },
  {
   "cell_type": "markdown",
   "metadata": {},
   "source": [
    "## chars_in\n",
    "\n",
    "❑ Améliorez la fonction précédente pour obtenir `chars_in(ch:str) -> list` qui retourne une **liste** contenant **une fois** chaque **caractère** du texte qu’elle prend en paramètre.\n",
    "\n",
    "❑ Test de la fonction avec \"\" \" \" \"aaabbc\" \"plein de mots !\""
   ]
  },
  {
   "cell_type": "code",
   "execution_count": 69,
   "metadata": {},
   "outputs": [
    {
     "name": "stdout",
     "output_type": "stream",
     "text": [
      "👏 BRAVO ! 👏\n"
     ]
    }
   ],
   "source": [
    "def chars_in(ch:str) -> list:\n",
    "    # écrivez le code la la fonction ici\n",
    "    result = []\n",
    "    for caractere in ch:\n",
    "        if caractere not in result :\n",
    "            result += caractere\n",
    "    return result\n",
    "\n",
    "# zone de test : pas toucher !\n",
    "assert chars_in(\"\")==[], \"⛔️ Erreur test 1 ! Essaye encore ! ⛔️\"\n",
    "assert chars_in(\" \")==[\" \"], \"⛔️ Erreur test 2 ! Essaye encore ! ⛔️\"\n",
    "assert chars_in(\"!#\")==[\"!\",\"#\"], \"⛔️ Erreur test 3 ! Essaye encore ! ⛔️\"\n",
    "assert chars_in(\"aaabbc\")==[\"a\",\"b\",\"c\"], \"⛔️ Erreur test 4 ! Essaye encore ! ⛔️\"\n",
    "assert chars_in(\"plein de mots !\")==[\"p\",\"l\",\"e\",\"i\",\"n\",\" \",\"d\",\"m\",\"o\",\"t\",\"s\",\"!\"], \"⛔️ Erreur test 5 ! Essaye encore ! ⛔️\"\n",
    "\n",
    "print(\"👏 BRAVO ! 👏\")"
   ]
  },
  {
   "cell_type": "markdown",
   "metadata": {},
   "source": [
    "## char_indexes\n",
    "\n",
    "❑ Écrivez une fonction `char_indexes(c:str, ch:str) -> list` qui retourne une **liste** contenant des **entiers** indiquant les **positions** du **caractere c** dans le **texte ch** qu’elle prend en paramètre.\n",
    "\n",
    "❑ Test de la fonction avec (\"\",\"\") (\"a\",\"\") (\"\",\"a\") (\"abc\",\"abc\")(b,\"aaabbbbc\")"
   ]
  },
  {
   "cell_type": "code",
   "execution_count": 70,
   "metadata": {},
   "outputs": [
    {
     "name": "stdout",
     "output_type": "stream",
     "text": [
      "👏 BRAVO ! 👏\n"
     ]
    }
   ],
   "source": [
    "def char_indexes(c:str, ch:str) -> list:\n",
    "    # écrivez le code la la fonction ici\n",
    "    result = []\n",
    "    \n",
    "    if len(c) != 1:\n",
    "        return []\n",
    "    \n",
    "    for position in range(0,len(ch)):\n",
    "        if ch[position] == c:\n",
    "            result.append(position)\n",
    "    \n",
    "    return result\n",
    "\n",
    "# zone de test : pas toucher !\n",
    "assert char_indexes(\"\",\"\")==[], \"⛔️ Erreur test 1 ! Essaye encore ! ⛔️\"\n",
    "assert char_indexes(\"a\",\"\")==[], \"⛔️ Erreur test 2 ! Essaye encore ! ⛔️\"\n",
    "assert char_indexes(\"\",\"a\")==[], \"⛔️ Erreur test 3 ! Essaye encore ! ⛔️\"\n",
    "assert char_indexes(\"abc\",\"abc\")==[], \"⛔️ Erreur test 4 ! Essaye encore ! ⛔️\"\n",
    "assert char_indexes(\"b\",\"aaabbcbbaaa\")==[3,4,6,7], \"⛔️ Erreur test 5 ! Essaye encore ! ⛔️\"\n",
    "\n",
    "print(\"👏 BRAVO ! 👏\")"
   ]
  },
  {
   "cell_type": "markdown",
   "metadata": {},
   "source": [
    "## meli_melo\n",
    "\n",
    "❑ Écrivez une fonction `meli_melo(ch:str) -> str` qui retourne un **texte** contenant les **caractères** **mélangés aléatoirement** du **texte** qu’elle prend en paramètre.\n",
    "\n",
    "❑ Test de la fonction avec \"\", \" \", \"a\", \"ab\", \"abc\""
   ]
  },
  {
   "cell_type": "code",
   "execution_count": 71,
   "metadata": {},
   "outputs": [
    {
     "name": "stdout",
     "output_type": "stream",
     "text": [
      "👏 BRAVO ! 👏\n"
     ]
    }
   ],
   "source": [
    "from random import *\n",
    "def meli_melo(ch:str) -> str:\n",
    "    # écrivez le code la la fonction ici\n",
    "    result = \"\"\n",
    "    for caractere in ch:\n",
    "        if randint(0,1) == 0:\n",
    "            result = caractere + result\n",
    "        else:\n",
    "            result = result + caractere\n",
    "    return result\n",
    "\n",
    "# zone de test : pas toucher !\n",
    "assert meli_melo(\"\")==\"\", \"⛔️ Erreur test 1 ! Essaye encore ! ⛔️\"\n",
    "assert meli_melo(\" \")==\" \", \"⛔️ Erreur test 2 ! Essaye encore ! ⛔️\"\n",
    "assert meli_melo(\"a\")==\"a\", \"⛔️ Erreur test 3 ! Essaye encore ! ⛔️\"\n",
    "assert meli_melo(\"ab\") in [\"ab\",\"ba\"], \"⛔️ Erreur test 4 ! Essaye encore ! ⛔️\"\n",
    "assert meli_melo(\"abc\") in [\"abc\",\"acb\",\"bac\",\"bca\",\"cab\",\"cba\"], \"⛔️ Erreur test 5 ! Essaye encore ! ⛔️\"\n",
    "print(\"👏 BRAVO ! 👏\")"
   ]
  },
  {
   "cell_type": "markdown",
   "metadata": {},
   "source": [
    "## words_count\n",
    "\n",
    "❑ Écrivez une fonction `words_count(ch:str) -> int` qui retourne le **nombre de mots** contenus dans le texte qu’elle prend en paramètre.\n",
    "\n",
    "❑ Test de la fonction avec : \"\" \" \" \"mot\" \" deux mots \" \"une : deux, trois   mots !\""
   ]
  },
  {
   "cell_type": "code",
   "execution_count": 72,
   "metadata": {},
   "outputs": [
    {
     "name": "stdout",
     "output_type": "stream",
     "text": [
      "👏 BRAVO ! 👏\n"
     ]
    }
   ],
   "source": [
    "def words_count(ch:str) -> int:\n",
    "    # écrivez le code la la fonction ici\n",
    "    nb_mots = 0\n",
    "    caractere_precedent = \"\"\n",
    "    \n",
    "    for caractere in ch:\n",
    "        if caractere.isalpha() and not caractere_precedent.isalpha():\n",
    "            nb_mots += 1            \n",
    "        caractere_precedent = caractere\n",
    "    return nb_mots\n",
    "\n",
    "# zone de test : pas toucher !\n",
    "assert words_count(\"\")==0, \"⛔️ Erreur test 1 ! Essaye encore ! ⛔️\"\n",
    "assert words_count(\" \")==0, \"⛔️ Erreur test 2 ! Essaye encore ! ⛔️\"\n",
    "assert words_count(\"mot\")==1, \"⛔️ Erreur test 3 ! Essaye encore ! ⛔️\"\n",
    "assert words_count(\" deux mots \")==2, \"⛔️ Erreur test 4 ! Essaye encore ! ⛔️\"\n",
    "assert words_count(\"une : deux, trois   mots !\")==4, \"⛔️ Erreur test 5 ! Essaye encore ! ⛔️\"\n",
    "print(\"👏 BRAVO ! 👏\")"
   ]
  }
 ],
 "metadata": {
  "kernelspec": {
   "display_name": "Python 3",
   "language": "python",
   "name": "python3"
  },
  "language_info": {
   "codemirror_mode": {
    "name": "ipython",
    "version": 3
   },
   "file_extension": ".py",
   "mimetype": "text/x-python",
   "name": "python",
   "nbconvert_exporter": "python",
   "pygments_lexer": "ipython3",
   "version": "3.7.4"
  }
 },
 "nbformat": 4,
 "nbformat_minor": 2
}
